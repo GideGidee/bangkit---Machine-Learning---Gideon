{
 "cells": [
  {
   "cell_type": "markdown",
   "id": "0088f5cc-48bb-45e8-9b95-e79936e4b6e2",
   "metadata": {},
   "source": [
    "# Data Analyst Exercise"
   ]
  },
  {
   "cell_type": "markdown",
   "id": "04d93f06-a036-4f31-898d-cb73ada48534",
   "metadata": {},
   "source": [
    "Import Library"
   ]
  },
  {
   "cell_type": "code",
   "execution_count": 1,
   "id": "d5ba3786-c3cd-448b-ae97-77833b119b4b",
   "metadata": {},
   "outputs": [],
   "source": [
    "import numpy as np\n",
    "import pandas as pd\n",
    "pd.set_option(\"display.max_columns\", None)\n",
    "import matplotlib.pyplot as plt\n",
    "import seaborn as sns"
   ]
  },
  {
   "cell_type": "markdown",
   "id": "857e03b6-c232-4581-bae5-d547747bf694",
   "metadata": {},
   "source": [
    "read data csv"
   ]
  },
  {
   "cell_type": "code",
   "execution_count": 2,
   "id": "a3365126-4665-4a51-ad3c-0c18446838ee",
   "metadata": {},
   "outputs": [],
   "source": [
    "customers_df = pd.read_csv(\"customers.csv\")\n",
    "orders_df = pd.read_csv(\"orders.csv\")\n",
    "product_df = pd.read_csv(\"products.csv\")\n",
    "sales_df = pd.read_csv(\"sales.csv\")"
   ]
  },
  {
   "cell_type": "markdown",
   "id": "8ab4e092-d4f0-4d76-914d-15d95c7aa74b",
   "metadata": {},
   "source": [
    "## Asseting Data\n",
    "menilai kualitas dari seluruh data yang akan digunakan\n",
    "\n",
    "1. melihat kualitas data"
   ]
  },
  {
   "cell_type": "code",
   "execution_count": null,
   "id": "e4b0b5d8-f85f-4b53-b931-94ca8a414d36",
   "metadata": {},
   "outputs": [],
   "source": [
    "print(customers_df.info())\n",
    "print(orders_df.info())\n",
    "print(product_df.info())\n",
    "print(sales_df.info())"
   ]
  },
  {
   "cell_type": "markdown",
   "id": "880411a5-dc07-4630-81ea-5ffbdf784ae6",
   "metadata": {},
   "source": [
    "2. melihat duplikat data"
   ]
  },
  {
   "cell_type": "code",
   "execution_count": null,
   "id": "6635b486-7201-43d7-8b45-60d99cb4ecf1",
   "metadata": {},
   "outputs": [],
   "source": [
    "print(f\"jumlah duplikasi: {customers_df.duplicated().sum()}\")\n",
    "print(f\"jumlah duplikasi: {orders_df.duplicated().sum()}\")\n",
    "print(f\"jumlah duplikasi: {product_df.duplicated().sum()}\")\n",
    "print(f\"jumlah duplikasi: {sales_df.duplicated().sum()}\")"
   ]
  },
  {
   "cell_type": "markdown",
   "id": "9ab1b8ad-5fbc-419d-96c8-abf70ff2bfc7",
   "metadata": {},
   "source": [
    "3. gunakan method describe(). Method tersebut akan menampilkan ringkasan parameter statistik (mean, median, dll.) dari kolom numerik pada sebuah DataFrame."
   ]
  },
  {
   "cell_type": "code",
   "execution_count": null,
   "id": "9e1feab5-145e-496d-8454-f65ae2182b0e",
   "metadata": {},
   "outputs": [],
   "source": [
    "print(customers_df.describe())\n",
    "print(orders_df.describe())\n",
    "print(product_df.describe())\n",
    "print(sales_df.describe())"
   ]
  },
  {
   "cell_type": "markdown",
   "id": "cdce1653-a8ca-46eb-9268-4b08ee1a4067",
   "metadata": {},
   "source": [
    "## Cleaning Data\n",
    "1. menghapus duplikasi"
   ]
  },
  {
   "cell_type": "code",
   "execution_count": 3,
   "id": "9c4f71b2-6f33-41c3-a1e1-a5954d0b2721",
   "metadata": {},
   "outputs": [],
   "source": [
    "customers_df.drop_duplicates(inplace=True)\n",
    "product_df.drop_duplicates(inplace=True)"
   ]
  },
  {
   "cell_type": "markdown",
   "id": "373a2106-e66d-4cd9-bb0c-9197e23e7118",
   "metadata": {},
   "source": [
    "2. menangani missing value\n",
    "\n",
    "menampilkan data yang memiliki missing value"
   ]
  },
  {
   "cell_type": "code",
   "execution_count": null,
   "id": "f51e3ce5-7b68-4b28-b55d-cf69116f878a",
   "metadata": {},
   "outputs": [],
   "source": [
    "print(customers_df[customers_df.gender.isna()])\n",
    "print(sales_df.isna().sum())"
   ]
  },
  {
   "cell_type": "markdown",
   "id": "059d4890-9753-4398-9831-375ff761dbb0",
   "metadata": {},
   "source": [
    "mengganti data missing value dengan data yang dominan"
   ]
  },
  {
   "cell_type": "code",
   "execution_count": 4,
   "id": "58d2f3b4-df7e-4716-bf1d-f198b04d569d",
   "metadata": {},
   "outputs": [],
   "source": [
    "customers_df.fillna(value=\"Prefer not to say\", inplace=True)\n",
    "sales_df[\"total_price\"] = sales_df[\"price_per_unit\"] * sales_df[\"quantity\"]"
   ]
  },
  {
   "cell_type": "markdown",
   "id": "34a23df5-ea80-49db-ac62-3a977d83ab51",
   "metadata": {},
   "source": [
    "3. menangani inaccurate file\n",
    "\n",
    "filter"
   ]
  },
  {
   "cell_type": "code",
   "execution_count": null,
   "id": "ce3c690c-8eec-4035-967a-214922e74bac",
   "metadata": {},
   "outputs": [],
   "source": [
    "print(customers_df[customers_df.age == customers_df.age.max()])"
   ]
  },
  {
   "cell_type": "markdown",
   "id": "bc1b101d-b58f-46dc-acd4-652270c5cc0d",
   "metadata": {},
   "source": [
    "replace"
   ]
  },
  {
   "cell_type": "code",
   "execution_count": 5,
   "id": "66c490af-3cdf-4320-b4c6-c90eebb53f23",
   "metadata": {},
   "outputs": [
    {
     "name": "stderr",
     "output_type": "stream",
     "text": [
      "C:\\Users\\ACER\\AppData\\Local\\Temp\\ipykernel_18776\\3038854443.py:1: FutureWarning: A value is trying to be set on a copy of a DataFrame or Series through chained assignment using an inplace method.\n",
      "The behavior will change in pandas 3.0. This inplace method will never work because the intermediate object on which we are setting values always behaves as a copy.\n",
      "\n",
      "For example, when doing 'df[col].method(value, inplace=True)', try using 'df.method({col: value}, inplace=True)' or df[col] = df[col].method(value) instead, to perform the operation inplace on the original object.\n",
      "\n",
      "\n",
      "  customers_df.age.replace(customers_df.age.max(), 70, inplace=True)\n",
      "C:\\Users\\ACER\\AppData\\Local\\Temp\\ipykernel_18776\\3038854443.py:2: FutureWarning: A value is trying to be set on a copy of a DataFrame or Series through chained assignment using an inplace method.\n",
      "The behavior will change in pandas 3.0. This inplace method will never work because the intermediate object on which we are setting values always behaves as a copy.\n",
      "\n",
      "For example, when doing 'df[col].method(value, inplace=True)', try using 'df.method({col: value}, inplace=True)' or df[col] = df[col].method(value) instead, to perform the operation inplace on the original object.\n",
      "\n",
      "\n",
      "  customers_df.age.replace(customers_df.age.max(), 50, inplace=True)\n"
     ]
    }
   ],
   "source": [
    "customers_df.age.replace(customers_df.age.max(), 70, inplace=True)\n",
    "customers_df.age.replace(customers_df.age.max(), 50, inplace=True)"
   ]
  },
  {
   "cell_type": "code",
   "execution_count": null,
   "id": "291925a9-8c48-4cd5-8652-703b830815b2",
   "metadata": {},
   "outputs": [],
   "source": [
    "print(customers_df.describe())"
   ]
  },
  {
   "cell_type": "markdown",
   "id": "562b9aa0-d39f-4d8f-85f4-f2b6be38c3fe",
   "metadata": {},
   "source": [
    "replace tipe data order"
   ]
  },
  {
   "cell_type": "code",
   "execution_count": 7,
   "id": "89de1648-7918-4ab1-815d-d2f44d06a125",
   "metadata": {},
   "outputs": [],
   "source": [
    "date_order = [\"order_date\", \"delivery_date\"]\n",
    "\n",
    "for kolom in date_order:\n",
    "    orders_df[kolom] = pd.to_datetime(orders_df[kolom])"
   ]
  },
  {
   "cell_type": "code",
   "execution_count": null,
   "id": "6633acc3-1c8f-4a4c-9ecb-d3643093e584",
   "metadata": {},
   "outputs": [],
   "source": [
    "print(orders_df.info())"
   ]
  },
  {
   "cell_type": "markdown",
   "id": "f3ff051b-67ab-4a5c-aae9-f1c12babc930",
   "metadata": {},
   "source": [
    "## Exploratory Data"
   ]
  },
  {
   "cell_type": "markdown",
   "id": "717b8878-bf95-4350-813c-048cf0a6b0ae",
   "metadata": {},
   "source": [
    "1. Exploratory Customers"
   ]
  },
  {
   "cell_type": "code",
   "execution_count": null,
   "id": "519080b3-0a33-41ef-ac8b-4133a9bf8c24",
   "metadata": {},
   "outputs": [],
   "source": [
    "print(customers_df.groupby(by=\"gender\").agg(\n",
    "    {\n",
    "        \"customer_id\": \"nunique\",\n",
    "        \"age\": [\"max\", \"min\", \"mean\", \"std\"]\n",
    "    }\n",
    "))"
   ]
  },
  {
   "cell_type": "code",
   "execution_count": null,
   "id": "efb7246e-47e2-4040-a839-00fdea6e4714",
   "metadata": {},
   "outputs": [],
   "source": [
    "print(customers_df.groupby(by=\"city\").customer_id.nunique().sort_values(ascending=False))\n",
    "print(customers_df.groupby(by=\"state\").customer_id.nunique().sort_values(ascending=False))"
   ]
  },
  {
   "cell_type": "markdown",
   "id": "ed5b5028-a313-4bb9-8123-f1a66dc730bf",
   "metadata": {},
   "source": [
    "2. exploratory order\n",
    "\n",
    "transform delivery time"
   ]
  },
  {
   "cell_type": "code",
   "execution_count": 8,
   "id": "65769721-d7ab-4046-b977-bba2348d1e82",
   "metadata": {},
   "outputs": [],
   "source": [
    "delivery_time = orders_df[\"delivery_date\"] - orders_df[\"order_date\"]\n",
    "delivery_time = delivery_time.apply(lambda x: x.total_seconds())\n",
    "orders_df[\"delivery_time\"] = round(delivery_time/86400)"
   ]
  },
  {
   "cell_type": "markdown",
   "id": "9850d91e-6175-4b9e-93d5-2413659ee348",
   "metadata": {},
   "source": [
    "mencari status pelanggan"
   ]
  },
  {
   "cell_type": "code",
   "execution_count": 9,
   "id": "5d484f58-1777-4048-8851-eb0d5a04b276",
   "metadata": {},
   "outputs": [],
   "source": [
    "customer_id_in_orders_df = orders_df.customer_id.tolist()\n",
    "customers_df[\"status\"] = customers_df[\"customer_id\"].apply(lambda x: \"active\" if x in customer_id_in_orders_df else \"non active\")"
   ]
  },
  {
   "cell_type": "markdown",
   "id": "6f712195-8cfa-417f-af69-fe7b7962b039",
   "metadata": {},
   "source": [
    "menggabungkan tabel order dan customer"
   ]
  },
  {
   "cell_type": "code",
   "execution_count": 10,
   "id": "fcb9f8f9-0315-4926-9a9f-ad475e26e8ba",
   "metadata": {},
   "outputs": [],
   "source": [
    "orders_customers_df = pd.merge(\n",
    "    left=orders_df,\n",
    "    right=customers_df,\n",
    "    how=\"left\",\n",
    "    left_on=\"customer_id\",\n",
    "    right_on=\"customer_id\"\n",
    ")"
   ]
  },
  {
   "cell_type": "markdown",
   "id": "53a9f95a-6d73-4e25-a115-1a8d885f2e90",
   "metadata": {},
   "source": [
    "### melihat jumlah order\n",
    "berdasarkan umur"
   ]
  },
  {
   "cell_type": "code",
   "execution_count": 11,
   "id": "d6d80db2-2b37-40af-a2ca-8e07c0c5f270",
   "metadata": {},
   "outputs": [],
   "source": [
    "orders_customers_df[\"age_group\"] = orders_customers_df.age.apply(lambda x: \"youth\" if x <= 24 else (\"senior\" if x > 64 else \"adults\"))"
   ]
  },
  {
   "cell_type": "code",
   "execution_count": null,
   "id": "9917b06a-79f2-4628-9eb6-097ebe5f0da9",
   "metadata": {},
   "outputs": [],
   "source": [
    "print(orders_customers_df.groupby(by=\"age_group\").order_id.nunique().sort_values(ascending=False))"
   ]
  },
  {
   "cell_type": "markdown",
   "id": "e0d92591-ac86-484b-bb5d-de6475996193",
   "metadata": {},
   "source": [
    "3. eksplorasi data sales dan produk"
   ]
  },
  {
   "cell_type": "code",
   "execution_count": null,
   "id": "eb67e99e-1d1a-4358-86a4-24b671622f93",
   "metadata": {},
   "outputs": [],
   "source": [
    "print(product_df.describe())\n",
    "print(sales_df.describe())\n",
    "print(product_df.sort_values(by=\"price\", ascending=False))"
   ]
  },
  {
   "cell_type": "code",
   "execution_count": null,
   "id": "39ece918-a644-4970-b193-bfefb0d24d3f",
   "metadata": {},
   "outputs": [],
   "source": [
    "print(product_df.groupby(\"product_type\").agg(\n",
    "    {\n",
    "        \"product_id\": \"nunique\",\n",
    "        \"quantity\": \"sum\",\n",
    "        \"price\": [\"min\", \"max\"]\n",
    "    }\n",
    "))\n",
    "print(product_df.groupby(\"product_name\").agg(\n",
    "    {\n",
    "        \"product_id\": \"nunique\",\n",
    "        \"quantity\": \"sum\",\n",
    "        \"price\": [\"min\", \"max\"]\n",
    "    }\n",
    "))"
   ]
  },
  {
   "cell_type": "code",
   "execution_count": 12,
   "id": "407f7e65-cf7c-4df6-a36c-b67fe825fa4a",
   "metadata": {},
   "outputs": [],
   "source": [
    "sales_product_df = pd.merge(\n",
    "    left= sales_df,\n",
    "    right= product_df,\n",
    "    how=\"left\",\n",
    "    left_on=\"product_id\",\n",
    "    right_on=\"product_id\"\n",
    ")"
   ]
  },
  {
   "cell_type": "code",
   "execution_count": null,
   "id": "1fdbbaa4-e0fc-4bbe-bee6-c47f11781e03",
   "metadata": {},
   "outputs": [],
   "source": [
    "print(sales_product_df.groupby(by=\"product_name\").agg({\n",
    "    \"sales_id\": \"nunique\",\n",
    "    \"quantity_x\": \"sum\",\n",
    "    \"total_price\": \"sum\"\n",
    "}).sort_values(by=\"total_price\", ascending=False))"
   ]
  },
  {
   "cell_type": "markdown",
   "id": "ccbf5cb3-e0d4-400f-a817-94f88da707fd",
   "metadata": {},
   "source": [
    "### menggabungkan 4 tabel"
   ]
  },
  {
   "cell_type": "code",
   "execution_count": 13,
   "id": "e0efcb12-a05f-4087-8c65-919b1f467270",
   "metadata": {},
   "outputs": [],
   "source": [
    "all_df = pd.merge(\n",
    "    left=sales_product_df,\n",
    "    right=orders_customers_df,\n",
    "    how=\"left\",\n",
    "    left_on=\"order_id\",\n",
    "    right_on=\"order_id\"\n",
    ")"
   ]
  },
  {
   "cell_type": "markdown",
   "id": "fc71fd53-5ac5-4e8a-ab0f-b156c9cd3b50",
   "metadata": {},
   "source": [
    "\n",
    "## Data Visualization\n"
   ]
  },
  {
   "cell_type": "markdown",
   "id": "cb20d909-e9cf-4eb6-98ab-d3abb3c9a0c2",
   "metadata": {},
   "source": [
    "### pertanyaan 1: Bagaimana performa penjualan dan revenue perusahaan dalam beberapa bulan terakhir?"
   ]
  },
  {
   "cell_type": "markdown",
   "id": "187da501-3562-4c4d-96c9-0914182b0761",
   "metadata": {},
   "source": [
    "mengubah frekuensi data untuk memperoleh informasi terkait jumlah order dan total revenue yang diperoleh setiap bulannya."
   ]
  },
  {
   "cell_type": "code",
   "execution_count": 14,
   "id": "26b251f9-917a-48ac-a39e-9108da2f2406",
   "metadata": {},
   "outputs": [
    {
     "name": "stderr",
     "output_type": "stream",
     "text": [
      "C:\\Users\\ACER\\AppData\\Local\\Temp\\ipykernel_18776\\3072769671.py:1: FutureWarning: 'M' is deprecated and will be removed in a future version, please use 'ME' instead.\n",
      "  monthly_orders_df = all_df.resample(rule=\"M\", on=\"order_date\").agg({\n"
     ]
    }
   ],
   "source": [
    "monthly_orders_df = all_df.resample(rule=\"M\", on=\"order_date\").agg({\n",
    "    \"order_id\": \"nunique\",\n",
    "    \"total_price\": \"sum\"\n",
    "})\n",
    "monthly_orders_df.index = monthly_orders_df.index.strftime(\"%Y-%m\")\n",
    "monthly_orders_df = monthly_orders_df.reset_index()\n",
    "monthly_orders_df.rename(columns={\n",
    "    \"order_id\": \"order_count\",\n",
    "    \"total_price\": \"revenue\"\n",
    "}, inplace=True)"
   ]
  },
  {
   "cell_type": "markdown",
   "id": "d6c3c56f-5013-4d9d-a763-053dff4056af",
   "metadata": {},
   "source": [
    "#### Visualization:"
   ]
  },
  {
   "cell_type": "code",
   "execution_count": null,
   "id": "373b0860-c4bd-4241-9393-16234881ec29",
   "metadata": {},
   "outputs": [],
   "source": [
    "plt.figure(figsize=(10, 5))\n",
    "plt.plot(\n",
    "    monthly_orders_df[\"order_date\"],\n",
    "    monthly_orders_df[\"order_count\"],\n",
    "    marker=\"o\",\n",
    "    linewidth=2,\n",
    "    color=\"#72BCD4\",\n",
    ")\n",
    "plt.xticks(fontsize=10)\n",
    "plt.yticks(fontsize=10)\n",
    "plt.show()"
   ]
  },
  {
   "cell_type": "markdown",
   "id": "f542a5dc-2566-4a42-ad81-d4fcb49331c1",
   "metadata": {},
   "source": [
    "### pertanyaan 2: Produk apa yang paling banyak dan paling sedikit terjual?\n",
    "1. membuat df untuk menampung data total penjualan produk"
   ]
  },
  {
   "cell_type": "code",
   "execution_count": 16,
   "id": "96551398-9aba-4227-b2be-1b4f91b2b03e",
   "metadata": {},
   "outputs": [],
   "source": [
    "sum_order_items_df = all_df.groupby(by=\"product_name\").quantity_x.sum().sort_values(ascending=False).reset_index()"
   ]
  },
  {
   "cell_type": "markdown",
   "id": "115fd54f-904d-4861-a15b-03d439cd4742",
   "metadata": {},
   "source": [
    "#### menampilkan data dengan diagram batang"
   ]
  },
  {
   "cell_type": "code",
   "execution_count": 17,
   "id": "c5b174bb-d257-4647-ae2f-a09683b84893",
   "metadata": {},
   "outputs": [],
   "source": [
    "colors = [\"#72BCD4\", \"#D3D3D3\", \"#D3D3D3\", \"#D3D3D3\", \"#D3D3D3\"]"
   ]
  },
  {
   "cell_type": "code",
   "execution_count": null,
   "id": "9bd8bbde-6c17-46e2-9d87-26cdad4da339",
   "metadata": {},
   "outputs": [],
   "source": [
    "fig, ax = plt.subplots(nrows=1, ncols=2, figsize=(24, 6))\n",
    "\n",
    "colors = [\"#72BCD4\", \"#D3D3D3\", \"#D3D3D3\", \"#D3D3D3\", \"#D3D3D3\"]\n",
    "\n",
    "sns.barplot(x=\"product_name\", y=\"quantity_x\", hue=\"product_name\", data=sum_order_items_df.head(5), palette=colors, ax=ax[0])\n",
    "ax[0].set_ylabel(None)\n",
    "ax[0].set_xlabel(None)\n",
    "ax[0].set_title(\"Best Performing Product\", loc=\"center\", fontsize=15)\n",
    "ax[0].tick_params(axis=\"y\", labelsize=12)\n",
    "\n",
    "sns.barplot(x=\"product_name\", y=\"quantity_x\", hue=\"product_name\", data=sum_order_items_df.sort_values(by=\"quantity_x\", ascending=True).head(5), palette=colors, ax=ax[1])\n",
    "ax[1].set_ylabel(None)\n",
    "ax[1].set_xlabel(None)\n",
    "ax[1].invert_xaxis()\n",
    "ax[1].yaxis.set_label_position(\"right\")\n",
    "ax[1].yaxis.tick_right()\n",
    "ax[1].set_title(\"Worst Performing Product\", loc=\"center\", fontsize=15)\n",
    "ax[1].tick_params(axis=\"y\", labelsize=12)\n",
    "\n",
    "plt.suptitle(\"Best and Worst Performing Product by Number of Sales\", fontsize=20)\n",
    "plt.show()"
   ]
  },
  {
   "cell_type": "markdown",
   "id": "6ec05b93-865c-4b6e-bcd2-37920f2c481a",
   "metadata": {},
   "source": [
    "#### pertanyaan 3: Bagaimana demografi pelanggan yang kita miliki?\n",
    "Untuk menjawab hal ini, tentunya kita bisa membuat DataFrame baru untuk menampung informasi terkait jumlah pelanggan untuk demografi tertentu seperti gender, state, dll.\n",
    "1. #### berdasarkan gender\n",
    "\n",
    "membuat dataframe gender"
   ]
  },
  {
   "cell_type": "code",
   "execution_count": 18,
   "id": "b9d8f57c-20b6-4910-b725-9d887c729c33",
   "metadata": {},
   "outputs": [],
   "source": [
    "bygender_df = all_df.groupby(by=\"gender\").customer_id.nunique().reset_index()\n",
    "bygender_df.rename(columns={\n",
    "    \"customer_id\": \"customer_count\"\n",
    "}, inplace=True)"
   ]
  },
  {
   "cell_type": "markdown",
   "id": "41e80eac-5657-4024-853b-298cb46bba69",
   "metadata": {},
   "source": [
    "#### Visualization:"
   ]
  },
  {
   "cell_type": "code",
   "execution_count": null,
   "id": "f5f821aa-9740-4084-a9f6-f54f71e53009",
   "metadata": {},
   "outputs": [],
   "source": [
    "plt.figure(figsize=(10, 5))\n",
    "\n",
    "sns.barplot(\n",
    "    y = \"customer_count\",\n",
    "    x = \"gender\",\n",
    "    hue = \"gender\",\n",
    "    data = bygender_df.sort_values(by=\"customer_count\", ascending=False),\n",
    "    palette=colors\n",
    ")\n",
    "plt.title(\"Number of Customer by Gender\", loc=\"center\", fontsize=15)\n",
    "plt.xlabel(None)\n",
    "plt.ylabel(None)\n",
    "plt.tick_params(axis='x', labelsize=12)\n",
    "plt.show()"
   ]
  },
  {
   "cell_type": "markdown",
   "id": "58f46960-af38-4cc6-b223-7eee2d263be9",
   "metadata": {},
   "source": [
    "2. #### berdasarkan usia"
   ]
  },
  {
   "cell_type": "code",
   "execution_count": 19,
   "id": "e1f9b51a-f0ff-4d6c-a487-27ebf6f0cd46",
   "metadata": {},
   "outputs": [],
   "source": [
    "byage_df = all_df.groupby(by=\"age_group\").customer_id.nunique().reset_index()\n",
    "byage_df.rename(columns={\n",
    "    \"customer_id\": \"customer_count\"\n",
    "}, inplace=True)\n",
    "byage_df[\"age_group\"] = pd.Categorical(byage_df[\"age_group\"], [\"youth\", \"adults\", \"senior\"])"
   ]
  },
  {
   "cell_type": "code",
   "execution_count": null,
   "id": "39994085-afa5-46a2-a72c-f5cf17f2ac38",
   "metadata": {},
   "outputs": [],
   "source": [
    "colors_ = [\"#D3D3D3\", \"#72BCD4\", \"#D3D3D3\", \"#D3D3D3\", \"#D3D3D3\"]"
   ]
  },
  {
   "cell_type": "markdown",
   "id": "1a3c8698-47d6-41a7-87c1-8f9ef6a3f256",
   "metadata": {},
   "source": [
    "#### visualization"
   ]
  },
  {
   "cell_type": "code",
   "execution_count": null,
   "id": "da9f419a-dac2-4ac4-9559-b5e5b9a7216c",
   "metadata": {},
   "outputs": [],
   "source": [
    "plt.figure(figsize=(10, 5))\n",
    "\n",
    "sns.barplot(\n",
    "    y = \"customer_count\",\n",
    "    x = \"age_group\",\n",
    "    hue = \"age_group\",\n",
    "    data = byage_df.sort_values(by=\"age_group\", ascending=False),\n",
    "    palette = colors_\n",
    ")\n",
    "plt.title(\"Number of Customer by Age\", loc=\"center\", fontsize=15)\n",
    "plt.ylabel(None)\n",
    "plt.xlabel(None)\n",
    "plt.tick_params(axis=\"x\", labelsize=12)\n",
    "plt.show()"
   ]
  },
  {
   "cell_type": "markdown",
   "id": "2fde0009-4ac1-418a-91b2-b7e051cd16aa",
   "metadata": {},
   "source": [
    "3. #### berdasarkan state"
   ]
  },
  {
   "cell_type": "code",
   "execution_count": 20,
   "id": "56878b56-f48e-42da-876a-02346126a964",
   "metadata": {},
   "outputs": [],
   "source": [
    "bystate_df = all_df.groupby(by=\"state\").customer_id.nunique().reset_index()\n",
    "bystate_df.rename(columns={\"customer_id\": \"customer_count\"}, inplace=True)\n",
    "bystate_df\n",
    "colors_ = [\n",
    "    \"#72BCD4\",\n",
    "    \"#D3D3D3\",\n",
    "    \"#D3D3D3\",\n",
    "    \"#D3D3D3\",\n",
    "    \"#D3D3D3\",\n",
    "    \"#D3D3D3\",\n",
    "    \"#D3D3D3\",\n",
    "    \"#D3D3D3\",\n",
    "]"
   ]
  },
  {
   "cell_type": "code",
   "execution_count": null,
   "id": "56dfb2b0-73e9-4f3b-8ee9-d3fc50f9ffe0",
   "metadata": {},
   "outputs": [],
   "source": [
    "plt.figure(figsize=(10, 5))\n",
    "\n",
    "sns.barplot(\n",
    "    x=\"state\",\n",
    "    y=\"customer_count\",\n",
    "    data=bystate_df.sort_values(by=\"customer_count\", ascending=False),\n",
    "    palette=colors_,\n",
    ")\n",
    "plt.title(\"Number of Customer by States\", loc=\"center\", fontsize=15)\n",
    "plt.ylabel(None)\n",
    "plt.xlabel(None)\n",
    "# plt.xticks(rotation=15)\n",
    "plt.tick_params(axis=\"y\", labelsize=12)\n",
    "plt.show()"
   ]
  },
  {
   "cell_type": "markdown",
   "id": "12f495da-198b-40ee-a838-970603e42c6e",
   "metadata": {},
   "source": [
    "## RFM Analyst\n",
    "RFM analysis merupakan salah satu metode yang umum digunakan untuk melakukan segmentasi pelanggan (mengelompokkan pelanggan ke dalam beberapa kategori) berdasarkan tiga parameter, yaitu recency, frequency, dan monetary.\n",
    "\n",
    "1. #### Recency:\n",
    "   parameter yang digunakan untuk melihat kapan terakhir seorang pelanggan melakukan transaksi.\n",
    "2. #### Frequency:\n",
    "   parameter ini digunakan untuk mengidentifikasi seberapa sering seorang pelanggan melakukan transaksi.\n",
    "3. #### Monetary:\n",
    "   parameter terakhir ini digunakan untuk mengidentifikasi seberapa besar revenue yang berasal dari pelanggan tersebut."
   ]
  },
  {
   "cell_type": "code",
   "execution_count": 21,
   "id": "e0f97a98-dc18-4911-bb60-6f723330f8bf",
   "metadata": {},
   "outputs": [],
   "source": [
    "rfm_df = all_df.groupby(by=\"customer_id\", as_index=False).agg(\n",
    "    {\n",
    "        \"order_date\": \"max\",  # mengambil tanggal order terakhir\n",
    "        \"order_id\": \"nunique\",  # menghitung jumlah order\n",
    "        \"total_price\": \"sum\",  # menghitung jumlah revenue yang dihasilkan\n",
    "    }\n",
    ")\n",
    "\n",
    "rfm_df.columns = [\"customer_id\", \"max_order_timestamp\", \"frequency\", \"monetary\"]\n",
    "\n",
    "# menghitung kapan terakhir pelanggan melakukan transaksi (hari)\n",
    "rfm_df[\"max_order_timestamp\"] = rfm_df[\"max_order_timestamp\"].dt.date\n",
    "recent_date = orders_df[\"order_date\"].dt.date.max()\n",
    "rfm_df[\"recency\"] = rfm_df[\"max_order_timestamp\"].apply(lambda x: (recent_date - x).days)\n",
    "\n",
    "rfm_df.drop(\"max_order_timestamp\", axis=1, inplace=True)"
   ]
  },
  {
   "cell_type": "markdown",
   "id": "5f2d337f-2493-4876-9e65-6b8c045d4cfc",
   "metadata": {},
   "source": [
    "### visualization RFM"
   ]
  },
  {
   "cell_type": "code",
   "execution_count": null,
   "id": "322d0f43-8a3a-424f-a3b5-900fc911e5a9",
   "metadata": {
    "jupyter": {
     "source_hidden": true
    }
   },
   "outputs": [],
   "source": [
    "fig, ax = plt.subplots(nrows=1, ncols=3, figsize=(30, 6))\n",
    "\n",
    "colors = [\"#72BCD4\", \"#72BCD4\", \"#72BCD4\", \"#72BCD4\", \"#72BCD4\"]\n",
    "\n",
    "sns.barplot(\n",
    "    y=\"recency\",\n",
    "    x=\"customer_id\",\n",
    "    data=rfm_df.sort_values(by=\"recency\", ascending=True).head(5),\n",
    "    palette=colors,\n",
    "    ax=ax[0],\n",
    ")\n",
    "ax[0].set_ylabel(None)\n",
    "ax[0].set_xlabel(None)\n",
    "ax[0].set_title(\"By Recency (days)\", loc=\"center\", fontsize=18)\n",
    "ax[0].tick_params(axis=\"x\", labelsize=15)\n",
    "\n",
    "sns.barplot(\n",
    "    y=\"frequency\",\n",
    "    x=\"customer_id\",\n",
    "    data=rfm_df.sort_values(by=\"frequency\", ascending=False).head(5),\n",
    "    palette=colors,\n",
    "    ax=ax[1]\n",
    ")\n",
    "ax[1].set_ylabel(None)\n",
    "ax[1].set_xlabel(None)\n",
    "ax[1].set_title(\"By Frequency\", loc=\"center\", fontsize=18)\n",
    "ax[1].tick_params(axis=\"x\", labelsize=15)\n",
    "\n",
    "sns.barplot(\n",
    "    y=\"monetary\",\n",
    "    x=\"customer_id\",\n",
    "    data=rfm_df.sort_values(by=\"monetary\", ascending=False).head(5),\n",
    "    palette=colors,\n",
    "    ax=ax[2]\n",
    ")\n",
    "ax[2].set_ylabel(None)\n",
    "ax[2].set_xlabel(None)\n",
    "ax[2].set_title(\"By Monetary\", loc=\"center\", fontsize=18)\n",
    "ax[2].tick_params(axis=\"x\", labelsize=15)\n",
    "\n",
    "plt.suptitle(\"Best Customer Based on RFM Parameters (customer_id)\", fontsize=20)\n",
    "plt.show()"
   ]
  },
  {
   "cell_type": "markdown",
   "id": "429712d4-ec52-4fdf-a229-9ab5c1794da2",
   "metadata": {},
   "source": [
    "## membuat file csv"
   ]
  },
  {
   "cell_type": "code",
   "execution_count": 23,
   "id": "bdbde219-b0e7-4595-be76-3eaedb20beb4",
   "metadata": {},
   "outputs": [],
   "source": [
    "all_df.to_csv(\"all_data.csv\", index=False)"
   ]
  },
  {
   "cell_type": "code",
   "execution_count": null,
   "id": "98f63bb1-8111-44ad-83ea-e19dd81af424",
   "metadata": {},
   "outputs": [],
   "source": []
  }
 ],
 "metadata": {
  "kernelspec": {
   "display_name": "Python 3 (ipykernel)",
   "language": "python",
   "name": "python3"
  },
  "language_info": {
   "codemirror_mode": {
    "name": "ipython",
    "version": 3
   },
   "file_extension": ".py",
   "mimetype": "text/x-python",
   "name": "python",
   "nbconvert_exporter": "python",
   "pygments_lexer": "ipython3",
   "version": "3.9.19"
  }
 },
 "nbformat": 4,
 "nbformat_minor": 5
}
